{
 "cells": [
  {
   "cell_type": "code",
   "execution_count": 12,
   "metadata": {},
   "outputs": [],
   "source": [
    "import aquamonitor as am\n",
    "import pandas as pd\n",
    "import nivapy3 as nivapy\n",
    "import altair as alt\n",
    "import datetime as dt\n",
    "from bs4 import BeautifulSoup\n",
    "\n",
    "am.host = \"https://test-aquamonitor.niva.no/\"\n",
    "am.aqua_site = \"admin/\""
   ]
  },
  {
   "cell_type": "markdown",
   "metadata": {},
   "source": [
    "## 1. Login"
   ]
  },
  {
   "cell_type": "code",
   "execution_count": 2,
   "metadata": {},
   "outputs": [
    {
     "name": "stdin",
     "output_type": "stream",
     "text": [
      "Username:  ···\n",
      "Password:  ··············\n"
     ]
    },
    {
     "name": "stdout",
     "output_type": "stream",
     "text": [
      "Login successful.\n"
     ]
    }
   ],
   "source": [
    "token = am.login()"
   ]
  },
  {
   "cell_type": "markdown",
   "metadata": {},
   "source": [
    "## 2. Get all Labware \"projects\" for 1000 Lakes Survey\n",
    "\n",
    "Note that a \"project\" in Labware is not the same as a \"project\" in AM."
   ]
  },
  {
   "cell_type": "code",
   "execution_count": 3,
   "metadata": {},
   "outputs": [
    {
     "data": {
      "text/html": [
       "<div>\n",
       "<style scoped>\n",
       "    .dataframe tbody tr th:only-of-type {\n",
       "        vertical-align: middle;\n",
       "    }\n",
       "\n",
       "    .dataframe tbody tr th {\n",
       "        vertical-align: top;\n",
       "    }\n",
       "\n",
       "    .dataframe thead th {\n",
       "        text-align: right;\n",
       "    }\n",
       "</style>\n",
       "<table border=\"1\" class=\"dataframe\">\n",
       "  <thead>\n",
       "    <tr style=\"text-align: right;\">\n",
       "      <th></th>\n",
       "      <th>name</th>\n",
       "      <th>status</th>\n",
       "      <th>closed</th>\n",
       "    </tr>\n",
       "  </thead>\n",
       "  <tbody>\n",
       "    <tr>\n",
       "      <td>0</td>\n",
       "      <td>930-8265</td>\n",
       "      <td>I</td>\n",
       "      <td>False</td>\n",
       "    </tr>\n",
       "    <tr>\n",
       "      <td>1</td>\n",
       "      <td>930-8268</td>\n",
       "      <td>I</td>\n",
       "      <td>False</td>\n",
       "    </tr>\n",
       "    <tr>\n",
       "      <td>2</td>\n",
       "      <td>930-8269</td>\n",
       "      <td>P</td>\n",
       "      <td>False</td>\n",
       "    </tr>\n",
       "    <tr>\n",
       "      <td>3</td>\n",
       "      <td>930-8272</td>\n",
       "      <td>P</td>\n",
       "      <td>False</td>\n",
       "    </tr>\n",
       "    <tr>\n",
       "      <td>4</td>\n",
       "      <td>930-8274</td>\n",
       "      <td>P</td>\n",
       "      <td>False</td>\n",
       "    </tr>\n",
       "  </tbody>\n",
       "</table>\n",
       "</div>"
      ],
      "text/plain": [
       "       name status  closed\n",
       "0  930-8265      I   False\n",
       "1  930-8268      I   False\n",
       "2  930-8269      P   False\n",
       "3  930-8272      P   False\n",
       "4  930-8274      P   False"
      ]
     },
     "execution_count": 3,
     "metadata": {},
     "output_type": "execute_result"
    }
   ],
   "source": [
    "# Get Labware projects\n",
    "proj_df = am.get_labware_projects(token, '190091;3')\n",
    "\n",
    "proj_df.head()"
   ]
  },
  {
   "cell_type": "markdown",
   "metadata": {},
   "source": [
    "## 3. Get all samples for projects "
   ]
  },
  {
   "cell_type": "code",
   "execution_count": 4,
   "metadata": {},
   "outputs": [
    {
     "data": {
      "text/html": [
       "<div>\n",
       "<style scoped>\n",
       "    .dataframe tbody tr th:only-of-type {\n",
       "        vertical-align: middle;\n",
       "    }\n",
       "\n",
       "    .dataframe tbody tr th {\n",
       "        vertical-align: top;\n",
       "    }\n",
       "\n",
       "    .dataframe thead th {\n",
       "        text-align: right;\n",
       "    }\n",
       "</style>\n",
       "<table border=\"1\" class=\"dataframe\">\n",
       "  <thead>\n",
       "    <tr style=\"text-align: right;\">\n",
       "      <th></th>\n",
       "      <th>sampleNumber</th>\n",
       "      <th>textID</th>\n",
       "      <th>projectStationId</th>\n",
       "      <th>status</th>\n",
       "      <th>sampledDate</th>\n",
       "      <th>sampleDepthUpper</th>\n",
       "      <th>sampleDepthLower</th>\n",
       "      <th>station_id</th>\n",
       "      <th>station_name</th>\n",
       "      <th>station_type</th>\n",
       "    </tr>\n",
       "  </thead>\n",
       "  <tbody>\n",
       "    <tr>\n",
       "      <td>0</td>\n",
       "      <td>104322</td>\n",
       "      <td>NR-2019-12958</td>\n",
       "      <td>55407</td>\n",
       "      <td>I</td>\n",
       "      <td>2019-10-29</td>\n",
       "      <td>0.0</td>\n",
       "      <td>0.0</td>\n",
       "      <td>26420</td>\n",
       "      <td>Simonstadvatnet</td>\n",
       "      <td>Innsjø</td>\n",
       "    </tr>\n",
       "    <tr>\n",
       "      <td>1</td>\n",
       "      <td>104323</td>\n",
       "      <td>NR-2019-12959</td>\n",
       "      <td>55490</td>\n",
       "      <td>I</td>\n",
       "      <td>2019-10-29</td>\n",
       "      <td>0.0</td>\n",
       "      <td>0.0</td>\n",
       "      <td>26421</td>\n",
       "      <td>Midtvatnet</td>\n",
       "      <td>Innsjø</td>\n",
       "    </tr>\n",
       "    <tr>\n",
       "      <td>2</td>\n",
       "      <td>104324</td>\n",
       "      <td>NR-2019-12960</td>\n",
       "      <td>55197</td>\n",
       "      <td>I</td>\n",
       "      <td>2019-10-29</td>\n",
       "      <td>0.0</td>\n",
       "      <td>0.0</td>\n",
       "      <td>26422</td>\n",
       "      <td>Ljøstadvann</td>\n",
       "      <td>Innsjø</td>\n",
       "    </tr>\n",
       "    <tr>\n",
       "      <td>3</td>\n",
       "      <td>104325</td>\n",
       "      <td>NR-2019-12961</td>\n",
       "      <td>55687</td>\n",
       "      <td>I</td>\n",
       "      <td>2019-10-29</td>\n",
       "      <td>0.0</td>\n",
       "      <td>0.0</td>\n",
       "      <td>26424</td>\n",
       "      <td>HOH 170</td>\n",
       "      <td>Innsjø</td>\n",
       "    </tr>\n",
       "    <tr>\n",
       "      <td>0</td>\n",
       "      <td>104333</td>\n",
       "      <td>NR-2019-12969</td>\n",
       "      <td>55576</td>\n",
       "      <td>I</td>\n",
       "      <td>2019-10-29</td>\n",
       "      <td>0.0</td>\n",
       "      <td>0.0</td>\n",
       "      <td>26431</td>\n",
       "      <td>Eiklitjørn</td>\n",
       "      <td>Innsjø</td>\n",
       "    </tr>\n",
       "  </tbody>\n",
       "</table>\n",
       "</div>"
      ],
      "text/plain": [
       "   sampleNumber         textID  projectStationId status sampledDate  \\\n",
       "0        104322  NR-2019-12958             55407      I  2019-10-29   \n",
       "1        104323  NR-2019-12959             55490      I  2019-10-29   \n",
       "2        104324  NR-2019-12960             55197      I  2019-10-29   \n",
       "3        104325  NR-2019-12961             55687      I  2019-10-29   \n",
       "0        104333  NR-2019-12969             55576      I  2019-10-29   \n",
       "\n",
       "   sampleDepthUpper  sampleDepthLower  station_id     station_name  \\\n",
       "0               0.0               0.0       26420  Simonstadvatnet   \n",
       "1               0.0               0.0       26421       Midtvatnet   \n",
       "2               0.0               0.0       26422      Ljøstadvann   \n",
       "3               0.0               0.0       26424          HOH 170   \n",
       "0               0.0               0.0       26431       Eiklitjørn   \n",
       "\n",
       "  station_type  \n",
       "0       Innsjø  \n",
       "1       Innsjø  \n",
       "2       Innsjø  \n",
       "3       Innsjø  \n",
       "0       Innsjø  "
      ]
     },
     "execution_count": 4,
     "metadata": {},
     "output_type": "execute_result"
    }
   ],
   "source": [
    "samp_df = am.get_labware_project_samples(token, proj_df['name'])\n",
    "\n",
    "samp_df.head()"
   ]
  },
  {
   "cell_type": "markdown",
   "metadata": {},
   "source": [
    "## 4. Get results for samples"
   ]
  },
  {
   "cell_type": "code",
   "execution_count": 5,
   "metadata": {},
   "outputs": [
    {
     "data": {
      "text/html": [
       "<div>\n",
       "<style scoped>\n",
       "    .dataframe tbody tr th:only-of-type {\n",
       "        vertical-align: middle;\n",
       "    }\n",
       "\n",
       "    .dataframe tbody tr th {\n",
       "        vertical-align: top;\n",
       "    }\n",
       "\n",
       "    .dataframe thead th {\n",
       "        text-align: right;\n",
       "    }\n",
       "</style>\n",
       "<table border=\"1\" class=\"dataframe\">\n",
       "  <thead>\n",
       "    <tr style=\"text-align: right;\">\n",
       "      <th></th>\n",
       "      <th>accreditedId</th>\n",
       "      <th>analysis</th>\n",
       "      <th>entryQualifier</th>\n",
       "      <th>loq</th>\n",
       "      <th>mu</th>\n",
       "      <th>name</th>\n",
       "      <th>numericEntry</th>\n",
       "      <th>sample_id</th>\n",
       "      <th>status</th>\n",
       "      <th>units</th>\n",
       "    </tr>\n",
       "  </thead>\n",
       "  <tbody>\n",
       "    <tr>\n",
       "      <td>0</td>\n",
       "      <td>None</td>\n",
       "      <td>KVIKKSØLV</td>\n",
       "      <td>None</td>\n",
       "      <td>&lt;0,03</td>\n",
       "      <td>20.0</td>\n",
       "      <td>Kvikksølv</td>\n",
       "      <td>0.0</td>\n",
       "      <td>104322</td>\n",
       "      <td>N</td>\n",
       "      <td>NG_P_L</td>\n",
       "    </tr>\n",
       "    <tr>\n",
       "      <td>1</td>\n",
       "      <td>None</td>\n",
       "      <td>METALLER_ICPMS</td>\n",
       "      <td>None</td>\n",
       "      <td>None</td>\n",
       "      <td>0.0</td>\n",
       "      <td>Bly</td>\n",
       "      <td>0.0</td>\n",
       "      <td>104322</td>\n",
       "      <td>N</td>\n",
       "      <td>UG_P_L</td>\n",
       "    </tr>\n",
       "    <tr>\n",
       "      <td>2</td>\n",
       "      <td>None</td>\n",
       "      <td>METALLER_ICPMS</td>\n",
       "      <td>None</td>\n",
       "      <td>None</td>\n",
       "      <td>0.0</td>\n",
       "      <td>Aluminium</td>\n",
       "      <td>0.0</td>\n",
       "      <td>104322</td>\n",
       "      <td>N</td>\n",
       "      <td>UG_P_L</td>\n",
       "    </tr>\n",
       "    <tr>\n",
       "      <td>3</td>\n",
       "      <td>None</td>\n",
       "      <td>METALLER_ICPMS</td>\n",
       "      <td>None</td>\n",
       "      <td>None</td>\n",
       "      <td>0.0</td>\n",
       "      <td>Arsen</td>\n",
       "      <td>0.0</td>\n",
       "      <td>104322</td>\n",
       "      <td>N</td>\n",
       "      <td>UG_P_L</td>\n",
       "    </tr>\n",
       "    <tr>\n",
       "      <td>4</td>\n",
       "      <td>None</td>\n",
       "      <td>METALLER_ICPMS</td>\n",
       "      <td>None</td>\n",
       "      <td>None</td>\n",
       "      <td>0.0</td>\n",
       "      <td>Jern</td>\n",
       "      <td>0.0</td>\n",
       "      <td>104322</td>\n",
       "      <td>N</td>\n",
       "      <td>UG_P_L</td>\n",
       "    </tr>\n",
       "  </tbody>\n",
       "</table>\n",
       "</div>"
      ],
      "text/plain": [
       "  accreditedId        analysis entryQualifier    loq    mu       name  \\\n",
       "0         None       KVIKKSØLV           None  <0,03  20.0  Kvikksølv   \n",
       "1         None  METALLER_ICPMS           None   None   0.0        Bly   \n",
       "2         None  METALLER_ICPMS           None   None   0.0  Aluminium   \n",
       "3         None  METALLER_ICPMS           None   None   0.0      Arsen   \n",
       "4         None  METALLER_ICPMS           None   None   0.0       Jern   \n",
       "\n",
       "   numericEntry  sample_id status   units  \n",
       "0           0.0     104322      N  NG_P_L  \n",
       "1           0.0     104322      N  UG_P_L  \n",
       "2           0.0     104322      N  UG_P_L  \n",
       "3           0.0     104322      N  UG_P_L  \n",
       "4           0.0     104322      N  UG_P_L  "
      ]
     },
     "execution_count": 5,
     "metadata": {},
     "output_type": "execute_result"
    }
   ],
   "source": [
    "res_df = am.get_labware_sample_results(token, samp_df['sampleNumber'])\n",
    "\n",
    "res_df.head()"
   ]
  },
  {
   "cell_type": "markdown",
   "metadata": {},
   "source": [
    "## 5. Combine Labware data"
   ]
  },
  {
   "cell_type": "code",
   "execution_count": 6,
   "metadata": {},
   "outputs": [
    {
     "data": {
      "text/html": [
       "<div>\n",
       "<style scoped>\n",
       "    .dataframe tbody tr th:only-of-type {\n",
       "        vertical-align: middle;\n",
       "    }\n",
       "\n",
       "    .dataframe tbody tr th {\n",
       "        vertical-align: top;\n",
       "    }\n",
       "\n",
       "    .dataframe thead th {\n",
       "        text-align: right;\n",
       "    }\n",
       "</style>\n",
       "<table border=\"1\" class=\"dataframe\">\n",
       "  <thead>\n",
       "    <tr style=\"text-align: right;\">\n",
       "      <th></th>\n",
       "      <th>sample_id</th>\n",
       "      <th>station_id</th>\n",
       "      <th>station_name</th>\n",
       "      <th>station_type</th>\n",
       "      <th>sample_date</th>\n",
       "      <th>parameter</th>\n",
       "      <th>status</th>\n",
       "      <th>loq</th>\n",
       "      <th>value</th>\n",
       "      <th>units</th>\n",
       "    </tr>\n",
       "  </thead>\n",
       "  <tbody>\n",
       "    <tr>\n",
       "      <td>0</td>\n",
       "      <td>104322</td>\n",
       "      <td>26420</td>\n",
       "      <td>Simonstadvatnet</td>\n",
       "      <td>Innsjø</td>\n",
       "      <td>2019-10-29</td>\n",
       "      <td>Kvikksølv</td>\n",
       "      <td>Not entered</td>\n",
       "      <td>&lt;0,03</td>\n",
       "      <td>0.0</td>\n",
       "      <td>NG_P_L</td>\n",
       "    </tr>\n",
       "    <tr>\n",
       "      <td>1</td>\n",
       "      <td>104322</td>\n",
       "      <td>26420</td>\n",
       "      <td>Simonstadvatnet</td>\n",
       "      <td>Innsjø</td>\n",
       "      <td>2019-10-29</td>\n",
       "      <td>Bly</td>\n",
       "      <td>Not entered</td>\n",
       "      <td>None</td>\n",
       "      <td>0.0</td>\n",
       "      <td>UG_P_L</td>\n",
       "    </tr>\n",
       "    <tr>\n",
       "      <td>2</td>\n",
       "      <td>104322</td>\n",
       "      <td>26420</td>\n",
       "      <td>Simonstadvatnet</td>\n",
       "      <td>Innsjø</td>\n",
       "      <td>2019-10-29</td>\n",
       "      <td>Aluminium</td>\n",
       "      <td>Not entered</td>\n",
       "      <td>None</td>\n",
       "      <td>0.0</td>\n",
       "      <td>UG_P_L</td>\n",
       "    </tr>\n",
       "    <tr>\n",
       "      <td>3</td>\n",
       "      <td>104322</td>\n",
       "      <td>26420</td>\n",
       "      <td>Simonstadvatnet</td>\n",
       "      <td>Innsjø</td>\n",
       "      <td>2019-10-29</td>\n",
       "      <td>Arsen</td>\n",
       "      <td>Not entered</td>\n",
       "      <td>None</td>\n",
       "      <td>0.0</td>\n",
       "      <td>UG_P_L</td>\n",
       "    </tr>\n",
       "    <tr>\n",
       "      <td>4</td>\n",
       "      <td>104322</td>\n",
       "      <td>26420</td>\n",
       "      <td>Simonstadvatnet</td>\n",
       "      <td>Innsjø</td>\n",
       "      <td>2019-10-29</td>\n",
       "      <td>Jern</td>\n",
       "      <td>Not entered</td>\n",
       "      <td>None</td>\n",
       "      <td>0.0</td>\n",
       "      <td>UG_P_L</td>\n",
       "    </tr>\n",
       "  </tbody>\n",
       "</table>\n",
       "</div>"
      ],
      "text/plain": [
       "   sample_id  station_id     station_name station_type sample_date  parameter  \\\n",
       "0     104322       26420  Simonstadvatnet       Innsjø  2019-10-29  Kvikksølv   \n",
       "1     104322       26420  Simonstadvatnet       Innsjø  2019-10-29        Bly   \n",
       "2     104322       26420  Simonstadvatnet       Innsjø  2019-10-29  Aluminium   \n",
       "3     104322       26420  Simonstadvatnet       Innsjø  2019-10-29      Arsen   \n",
       "4     104322       26420  Simonstadvatnet       Innsjø  2019-10-29       Jern   \n",
       "\n",
       "        status    loq  value   units  \n",
       "0  Not entered  <0,03    0.0  NG_P_L  \n",
       "1  Not entered   None    0.0  UG_P_L  \n",
       "2  Not entered   None    0.0  UG_P_L  \n",
       "3  Not entered   None    0.0  UG_P_L  \n",
       "4  Not entered   None    0.0  UG_P_L  "
      ]
     },
     "execution_count": 6,
     "metadata": {},
     "output_type": "execute_result"
    }
   ],
   "source": [
    "# Tidy\n",
    "samp_df2 = samp_df[['sampleNumber', 'station_id', 'station_name', \n",
    "                    'station_type', 'sampledDate', 'sampleDepthUpper', \n",
    "                    'sampleDepthLower']]\n",
    "\n",
    "samp_df2.columns = ['sample_id', 'station_id', 'station_name', \n",
    "                    'station_type', 'sample_date', 'depth1', \n",
    "                    'depth2']\n",
    "\n",
    "res_df2 = res_df[['sample_id', 'name', 'status', 'loq', 'numericEntry', 'units']]\n",
    "res_df2.columns = ['sample_id', 'parameter', 'status', 'loq', 'value', 'units']\n",
    "\n",
    "# Join\n",
    "lw_df = pd.merge(res_df2, samp_df2, how='left', on='sample_id')\n",
    "\n",
    "# Add verbose status codes\n",
    "res_status = pd.read_csv('labware_result_status_codes.csv', sep=';')\n",
    "lw_df = pd.merge(lw_df, res_status, how='left', on='status')\n",
    "del lw_df['status']\n",
    "lw_df.rename({'description':'status'}, axis='columns', inplace=True)\n",
    "\n",
    "# Tidy\n",
    "lw_df = lw_df[['sample_id', 'station_id', 'station_name', 'station_type', 'sample_date', \n",
    "               'depth1', 'depth2', 'parameter', 'status', 'loq', 'value', 'units']]\n",
    "\n",
    "# Get only surface samples\n",
    "lw_df = lw_df.query('(depth1==0) and (depth2==0)')\n",
    "del lw_df['depth1'], lw_df['depth2']\n",
    "\n",
    "# Add verbose status codes\n",
    "res_status = pd.read_csv('labware_result_status_codes.csv', sep=';')\n",
    "\n",
    "lw_df.head()"
   ]
  },
  {
   "cell_type": "markdown",
   "metadata": {},
   "source": [
    "## 6. Get data from 1995"
   ]
  },
  {
   "cell_type": "code",
   "execution_count": 7,
   "metadata": {},
   "outputs": [],
   "source": [
    "# Download all data for project\n",
    "excel_file = 'am1000sjoer.xlsx'\n",
    "am.Query('project_id=' + str(12433), token).makeArchive('excel', excel_file).download('')"
   ]
  },
  {
   "cell_type": "code",
   "execution_count": 8,
   "metadata": {},
   "outputs": [
    {
     "data": {
      "text/html": [
       "<div>\n",
       "<style scoped>\n",
       "    .dataframe tbody tr th:only-of-type {\n",
       "        vertical-align: middle;\n",
       "    }\n",
       "\n",
       "    .dataframe tbody tr th {\n",
       "        vertical-align: top;\n",
       "    }\n",
       "\n",
       "    .dataframe thead th {\n",
       "        text-align: right;\n",
       "    }\n",
       "</style>\n",
       "<table border=\"1\" class=\"dataframe\">\n",
       "  <thead>\n",
       "    <tr style=\"text-align: right;\">\n",
       "      <th></th>\n",
       "      <th>station_id</th>\n",
       "      <th>value</th>\n",
       "      <th>parameter</th>\n",
       "    </tr>\n",
       "  </thead>\n",
       "  <tbody>\n",
       "    <tr>\n",
       "      <td>2</td>\n",
       "      <td>26070</td>\n",
       "      <td>111.000</td>\n",
       "      <td>Aluminium, ikke labil</td>\n",
       "    </tr>\n",
       "    <tr>\n",
       "      <td>3</td>\n",
       "      <td>26070</td>\n",
       "      <td>20.000</td>\n",
       "      <td>Aluminium</td>\n",
       "    </tr>\n",
       "    <tr>\n",
       "      <td>4</td>\n",
       "      <td>26070</td>\n",
       "      <td>131.000</td>\n",
       "      <td>Aluminium, reaktivt</td>\n",
       "    </tr>\n",
       "    <tr>\n",
       "      <td>5</td>\n",
       "      <td>26070</td>\n",
       "      <td>0.042</td>\n",
       "      <td>Alkalitet</td>\n",
       "    </tr>\n",
       "    <tr>\n",
       "      <td>6</td>\n",
       "      <td>26070</td>\n",
       "      <td>1.280</td>\n",
       "      <td>Kalsium</td>\n",
       "    </tr>\n",
       "  </tbody>\n",
       "</table>\n",
       "</div>"
      ],
      "text/plain": [
       "   station_id    value              parameter\n",
       "2       26070  111.000  Aluminium, ikke labil\n",
       "3       26070   20.000              Aluminium\n",
       "4       26070  131.000    Aluminium, reaktivt\n",
       "5       26070    0.042              Alkalitet\n",
       "6       26070    1.280                Kalsium"
      ]
     },
     "execution_count": 8,
     "metadata": {},
     "output_type": "execute_result"
    }
   ],
   "source": [
    "# Read downloaded data\n",
    "chem_df = pd.read_excel(excel_file, \n",
    "                        sheet_name='WaterChemistry',\n",
    "                        header=[0,1],\n",
    "                       )\n",
    "chem_df.columns = chem_df.columns.map('_'.join)\n",
    "chem_df.columns = [i.split('_')[-1] if i[:7] == 'Unnamed' else i for i in chem_df.columns]\n",
    "\n",
    "# Parse dates, filter to 1995 and tidy\n",
    "chem_df['SampleDate'] = pd.to_datetime(chem_df['SampleDate'], format='%d.%m.%Y %H.%M.%S')\n",
    "chem_df = chem_df[chem_df['SampleDate'].dt.year == 1995]\n",
    "chem_df.drop(['ProjectId', 'ProjectName', 'StationCode', 'StationName', 'SampleDate'], axis=1, inplace=True)\n",
    "\n",
    "# Restructure\n",
    "chem_df = chem_df.melt(id_vars=['StationId', 'Depth1', 'Depth2'],\n",
    "                       var_name='par_unit')\n",
    "\n",
    "# AM export seems to mix '.' and ',' as the decimal separator\n",
    "chem_df['value'] = chem_df['value'].astype(str).str.replace(',', '.')\n",
    "\n",
    "# Convert LOD to value\n",
    "chem_df['value'] = chem_df['value'].str.strip('<').astype(float)\n",
    "\n",
    "# Average duplicates\n",
    "chem_df = chem_df.groupby(['StationId', 'Depth1', 'Depth2', 'par_unit']).mean().reset_index()\n",
    "\n",
    "chem_df['parameter'], chem_df['units'] = chem_df['par_unit'].str.split('_', 1).str\n",
    "del chem_df['par_unit']\n",
    "\n",
    "# Tidy\n",
    "chem_df = chem_df[['StationId', 'Depth1', 'Depth2', 'parameter', 'value', 'units']]\n",
    "chem_df.columns = ['station_id', 'depth1', 'depth2', 'parameter', 'value', 'units']\n",
    "chem_df.dropna(how='any', inplace=True)\n",
    "\n",
    "# Get only surface samples\n",
    "chem_df = chem_df.query('(depth1==0) and (depth2==0)')\n",
    "del chem_df['depth1'], chem_df['depth2']\n",
    "\n",
    "# Link labware param names\n",
    "par_map = pd.read_csv('am_labware_par_map.csv', sep=';')\n",
    "\n",
    "chem_df = pd.merge(chem_df, par_map, how='left',\n",
    "                   left_on='parameter', right_on='am_parameter')\n",
    "\n",
    "# Convert units\n",
    "chem_df['value'] = chem_df['value'] * chem_df['factor']\n",
    "\n",
    "# Only keep values that can be matched in Labware\n",
    "del chem_df['parameter'], chem_df['am_parameter'], chem_df['factor'], chem_df['units']\n",
    "chem_df.dropna(subset=['labware_parameter'], inplace=True)\n",
    "\n",
    "chem_df.rename({'labware_parameter':'parameter'}, axis='columns', inplace=True)\n",
    "\n",
    "chem_df.head()"
   ]
  },
  {
   "cell_type": "markdown",
   "metadata": {},
   "source": [
    "## 7. Link 1995 and 2019 datasets"
   ]
  },
  {
   "cell_type": "code",
   "execution_count": 9,
   "metadata": {},
   "outputs": [
    {
     "data": {
      "text/html": [
       "<div>\n",
       "<style scoped>\n",
       "    .dataframe tbody tr th:only-of-type {\n",
       "        vertical-align: middle;\n",
       "    }\n",
       "\n",
       "    .dataframe tbody tr th {\n",
       "        vertical-align: top;\n",
       "    }\n",
       "\n",
       "    .dataframe thead th {\n",
       "        text-align: right;\n",
       "    }\n",
       "</style>\n",
       "<table border=\"1\" class=\"dataframe\">\n",
       "  <thead>\n",
       "    <tr style=\"text-align: right;\">\n",
       "      <th></th>\n",
       "      <th>sample_id</th>\n",
       "      <th>station_id</th>\n",
       "      <th>station_name</th>\n",
       "      <th>station_type</th>\n",
       "      <th>sample_date</th>\n",
       "      <th>parameter</th>\n",
       "      <th>status</th>\n",
       "      <th>loq</th>\n",
       "      <th>value_lw</th>\n",
       "      <th>units</th>\n",
       "      <th>value_am</th>\n",
       "    </tr>\n",
       "  </thead>\n",
       "  <tbody>\n",
       "    <tr>\n",
       "      <td>1</td>\n",
       "      <td>104322</td>\n",
       "      <td>26420</td>\n",
       "      <td>Simonstadvatnet</td>\n",
       "      <td>Innsjø</td>\n",
       "      <td>2019-10-29</td>\n",
       "      <td>Bly</td>\n",
       "      <td>Not entered</td>\n",
       "      <td>None</td>\n",
       "      <td>0.0</td>\n",
       "      <td>UG_P_L</td>\n",
       "      <td>0.00066</td>\n",
       "    </tr>\n",
       "    <tr>\n",
       "      <td>2</td>\n",
       "      <td>104322</td>\n",
       "      <td>26420</td>\n",
       "      <td>Simonstadvatnet</td>\n",
       "      <td>Innsjø</td>\n",
       "      <td>2019-10-29</td>\n",
       "      <td>Aluminium</td>\n",
       "      <td>Not entered</td>\n",
       "      <td>None</td>\n",
       "      <td>0.0</td>\n",
       "      <td>UG_P_L</td>\n",
       "      <td>24.00000</td>\n",
       "    </tr>\n",
       "    <tr>\n",
       "      <td>3</td>\n",
       "      <td>104322</td>\n",
       "      <td>26420</td>\n",
       "      <td>Simonstadvatnet</td>\n",
       "      <td>Innsjø</td>\n",
       "      <td>2019-10-29</td>\n",
       "      <td>Arsen</td>\n",
       "      <td>Not entered</td>\n",
       "      <td>None</td>\n",
       "      <td>0.0</td>\n",
       "      <td>UG_P_L</td>\n",
       "      <td>0.35700</td>\n",
       "    </tr>\n",
       "    <tr>\n",
       "      <td>6</td>\n",
       "      <td>104322</td>\n",
       "      <td>26420</td>\n",
       "      <td>Simonstadvatnet</td>\n",
       "      <td>Innsjø</td>\n",
       "      <td>2019-10-29</td>\n",
       "      <td>Kobber</td>\n",
       "      <td>Not entered</td>\n",
       "      <td>None</td>\n",
       "      <td>0.0</td>\n",
       "      <td>UG_P_L</td>\n",
       "      <td>1.00000</td>\n",
       "    </tr>\n",
       "    <tr>\n",
       "      <td>8</td>\n",
       "      <td>104322</td>\n",
       "      <td>26420</td>\n",
       "      <td>Simonstadvatnet</td>\n",
       "      <td>Innsjø</td>\n",
       "      <td>2019-10-29</td>\n",
       "      <td>Krom</td>\n",
       "      <td>Not entered</td>\n",
       "      <td>None</td>\n",
       "      <td>0.0</td>\n",
       "      <td>UG_P_L</td>\n",
       "      <td>0.40000</td>\n",
       "    </tr>\n",
       "  </tbody>\n",
       "</table>\n",
       "</div>"
      ],
      "text/plain": [
       "   sample_id  station_id     station_name station_type sample_date  parameter  \\\n",
       "1     104322       26420  Simonstadvatnet       Innsjø  2019-10-29        Bly   \n",
       "2     104322       26420  Simonstadvatnet       Innsjø  2019-10-29  Aluminium   \n",
       "3     104322       26420  Simonstadvatnet       Innsjø  2019-10-29      Arsen   \n",
       "6     104322       26420  Simonstadvatnet       Innsjø  2019-10-29     Kobber   \n",
       "8     104322       26420  Simonstadvatnet       Innsjø  2019-10-29       Krom   \n",
       "\n",
       "        status   loq  value_lw   units  value_am  \n",
       "1  Not entered  None       0.0  UG_P_L   0.00066  \n",
       "2  Not entered  None       0.0  UG_P_L  24.00000  \n",
       "3  Not entered  None       0.0  UG_P_L   0.35700  \n",
       "6  Not entered  None       0.0  UG_P_L   1.00000  \n",
       "8  Not entered  None       0.0  UG_P_L   0.40000  "
      ]
     },
     "execution_count": 9,
     "metadata": {},
     "output_type": "execute_result"
    }
   ],
   "source": [
    "# Combine\n",
    "df = pd.merge(lw_df, chem_df, how='left', on=['station_id', 'parameter'],\n",
    "              suffixes=['_lw', '_am'])\n",
    "\n",
    "df.dropna(subset=['value_am', 'value_lw'], inplace=True)\n",
    "\n",
    "df.head()"
   ]
  },
  {
   "cell_type": "markdown",
   "metadata": {},
   "source": [
    "## 8. Build data visualisation"
   ]
  },
  {
   "cell_type": "code",
   "execution_count": 10,
   "metadata": {},
   "outputs": [
    {
     "data": {
      "application/vnd.vegalite.v3+json": {
       "$schema": "https://vega.github.io/schema/vega-lite/v3.4.0.json",
       "config": {
        "mark": {
         "tooltip": null
        },
        "view": {
         "height": 300,
         "width": 400
        }
       },
       "data": {
        "format": {
         "type": "json"
        },
        "url": "altair-data-cd6a49ee974a30486b096df130d5c1be.json"
       },
       "vconcat": [
        {
         "layer": [
          {
           "encoding": {
            "color": {
             "field": "status",
             "type": "nominal"
            },
            "tooltip": [
             {
              "field": "station_id",
              "type": "nominal"
             },
             {
              "field": "station_name",
              "type": "nominal"
             },
             {
              "field": "sample_date",
              "type": "temporal"
             },
             {
              "field": "status",
              "type": "nominal"
             }
            ],
            "x": {
             "field": "value_am",
             "title": "1995 value in Aquamonitor",
             "type": "quantitative"
            },
            "y": {
             "field": "value_lw",
             "title": "2019 value in Labware",
             "type": "quantitative"
            }
           },
           "height": 400,
           "mark": "point",
           "selection": {
            "Select": {
             "bind": {
              "input": "select",
              "options": [
               "None",
               "Alkalitet",
               "Aluminium",
               "Aluminium, ikke labil",
               "Aluminium, reaktivt",
               "Ammonium",
               "Arsen",
               "Bly",
               "Fluorid",
               "Kalium",
               "Kalsium",
               "Klorid",
               "Kobber",
               "Konduktivitet",
               "Krom",
               "Magnesium",
               "Natrium",
               "Nikkel",
               "Nitrat",
               "Sink",
               "Sulfat",
               "Total fosfor",
               "Total nitrogen",
               "Total organisk karbon (TOC)",
               "pH"
              ]
             },
             "fields": [
              "parameter"
             ],
             "type": "single"
            },
            "selector001": {
             "bind": "scales",
             "encodings": [
              "x",
              "y"
             ],
             "type": "interval"
            }
           },
           "transform": [
            {
             "filter": {
              "selection": "Select"
             }
            }
           ],
           "width": 800
          },
          {
           "encoding": {
            "x": {
             "field": "value_am",
             "title": "",
             "type": "quantitative"
            },
            "y": {
             "field": "value_am",
             "title": "",
             "type": "quantitative"
            }
           },
           "height": 400,
           "mark": "line",
           "transform": [
            {
             "filter": {
              "selection": "Select"
             }
            }
           ],
           "width": 800
          }
         ]
        },
        {
         "hconcat": [
          {
           "encoding": {
            "x": {
             "bin": {
              "maxbins": 100
             },
             "field": "value_lw",
             "title": "2019 value in Labware",
             "type": "quantitative"
            },
            "y": {
             "aggregate": "count",
             "title": "",
             "type": "quantitative"
            }
           },
           "height": 200,
           "mark": {
            "interpolate": "step",
            "type": "area"
           },
           "transform": [
            {
             "filter": {
              "selection": "Select"
             }
            }
           ],
           "width": 300
          },
          {
           "encoding": {
            "x": {
             "bin": {
              "maxbins": 100
             },
             "field": "value_am",
             "title": "1995 value in Aquamonitor",
             "type": "quantitative"
            },
            "y": {
             "aggregate": "count",
             "title": "",
             "type": "quantitative"
            }
           },
           "height": 200,
           "mark": {
            "interpolate": "step",
            "type": "area"
           },
           "transform": [
            {
             "filter": {
              "selection": "Select"
             }
            }
           ],
           "width": 300
          }
         ]
        }
       ]
      },
      "image/png": "[encoded data removed]",
      "text/plain": [
       "<VegaLite 3 object>\n",
       "\n",
       "If you see this message, it means the renderer has not been properly enabled\n",
       "for the frontend that you are using. For more information, see\n",
       "https://altair-viz.github.io/user_guide/troubleshooting.html\n"
      ]
     },
     "execution_count": 10,
     "metadata": {},
     "output_type": "execute_result"
    }
   ],
   "source": [
    "# Save data as JSON\n",
    "alt.data_transformers.enable('json')\n",
    "\n",
    "# Build drop-down list\n",
    "par_list = ['None'] + sorted(df['parameter'].unique())\n",
    "input_dropdown = alt.binding_select(options=par_list)\n",
    "selection = alt.selection_single(fields=['parameter'], bind=input_dropdown, name='Select')\n",
    "\n",
    "# Scatter plot\n",
    "scatter = alt.Chart(df, height=400, width=800).mark_point().encode(\n",
    "    x=alt.X('value_am:Q', title='1995 value in Aquamonitor'),\n",
    "    y=alt.Y('value_lw:Q', title='2019 value in Labware'),\n",
    "    tooltip=['station_id:N', 'station_name:N', 'sample_date:T', 'status:N'],\n",
    "    color='status:N',\n",
    ").add_selection(\n",
    "    selection\n",
    ").transform_filter(\n",
    "    selection\n",
    ").interactive()\n",
    "\n",
    "# 1:1 line\n",
    "line = alt.Chart(df, height=400, width=800).mark_line().encode(\n",
    "    x=alt.X('value_am:Q', title=''),\n",
    "    y=alt.Y('value_am:Q', title=''),\n",
    ").transform_filter(\n",
    "    selection\n",
    ")\n",
    "\n",
    "# Labware histogram\n",
    "lw_hist = alt.Chart(df, height=200, width=300).mark_area(\n",
    "    interpolate='step'\n",
    ").encode(\n",
    "    x=alt.X(\"value_lw:Q\", bin=alt.Bin(maxbins=100), title='2019 value in Labware'),\n",
    "    y=alt.Y('count()', title=''),\n",
    ").transform_filter(\n",
    "    selection\n",
    ")\n",
    "\n",
    "# Am histogram\n",
    "am_hist = alt.Chart(df, height=200, width=300).mark_area(\n",
    "    interpolate='step'\n",
    ").encode(\n",
    "    x=alt.X(\"value_am:Q\", bin=alt.Bin(maxbins=100), title='1995 value in Aquamonitor'),\n",
    "    y=alt.Y('count()', title=''),\n",
    ").transform_filter(\n",
    "    selection\n",
    ")\n",
    "\n",
    "# Layout\n",
    "chart = (scatter + line) & (lw_hist | am_hist)\n",
    "chart.save('qc_1000_lakes.json')\n",
    "\n",
    "chart"
   ]
  },
  {
   "cell_type": "markdown",
   "metadata": {},
   "source": [
    "## 9. Update `index.html`"
   ]
  },
  {
   "cell_type": "code",
   "execution_count": 18,
   "metadata": {},
   "outputs": [],
   "source": [
    "# Build new text\n",
    "today = dt.datetime.today()\n",
    "today = today.strftime('%d.%m.%Y')\n",
    "new_text = f'Labware results were last updated {today}'\n",
    "\n",
    "# Update HTML. See https://stackoverflow.com/a/42882971/505698\n",
    "soup = BeautifulSoup(open('index.html'), 'html.parser')\n",
    "h3 = soup.find('h3')\n",
    "h3.string.replace_with(new_text)\n",
    "\n",
    "with open('index.html', 'w') as file:\n",
    "    file.write(str(soup))"
   ]
  }
 ],
 "metadata": {
  "kernelspec": {
   "display_name": "Python 3",
   "language": "python",
   "name": "python3"
  },
  "language_info": {
   "codemirror_mode": {
    "name": "ipython",
    "version": 3
   },
   "file_extension": ".py",
   "mimetype": "text/x-python",
   "name": "python",
   "nbconvert_exporter": "python",
   "pygments_lexer": "ipython3",
   "version": "3.7.3"
  }
 },
 "nbformat": 4,
 "nbformat_minor": 4
}
